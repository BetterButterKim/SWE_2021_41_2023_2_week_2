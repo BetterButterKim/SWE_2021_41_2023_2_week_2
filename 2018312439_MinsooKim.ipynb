{
  "nbformat": 4,
  "nbformat_minor": 0,
  "metadata": {
    "colab": {
      "provenance": [],
      "gpuType": "T4"
    },
    "kernelspec": {
      "name": "python3",
      "display_name": "Python 3"
    },
    "language_info": {
      "name": "python"
    },
    "accelerator": "GPU"
  },
  "cells": [
    {
      "cell_type": "markdown",
      "source": [],
      "metadata": {
        "id": "-IItnlWEBWfi"
      }
    },
    {
      "cell_type": "markdown",
      "source": [
        "## Task\n",
        "- Complete **isHappy** function following the description below\n",
        "\n",
        "### Happy Number\n",
        "Write an algorithm to determine if a number **n** is happy.\n",
        "\n",
        "A **happy number** is a number defined by the following process:\n",
        "\n",
        "* Starting with any positive integer, replace the number by the sum of the squares of its digits.\n",
        "* Repeat the process until the number equals 1 (where it will stay), or it **loops endlessly in a cycle** which does not include 1.\n",
        "* Those numbers for which this process **ends in 1** are happy.\n",
        "\n",
        "Return **true** if n is a happy number, and **false** if not.\n",
        "\n",
        "Constraints:\n",
        "1 <= n <= $2^{31}$ - 1"
      ],
      "metadata": {
        "id": "TV3Socqg8BVl"
      }
    },
    {
      "cell_type": "code",
      "execution_count": 87,
      "metadata": {
        "id": "5FcxitVf5kdQ",
        "colab": {
          "base_uri": "https://localhost:8080/"
        },
        "outputId": "52fb0dcf-9185-40df-e829-b45543524a42"
      },
      "outputs": [
        {
          "output_type": "stream",
          "name": "stdout",
          "text": [
            "True 19\n",
            "False 2 or 89\n",
            "True 1\n",
            "True 19\n",
            "You've inputed a number in Wrong Range\n",
            "False 2 or 89\n",
            "False 2 or 89\n",
            "True 19\n"
          ]
        }
      ],
      "source": [
        "def isHappy(n):\n",
        "  # Set a range of input number 1<=n<=2^31-1\n",
        "  if n<1 or n>2**31:\n",
        "    print(\"You've inputed a number in Wrong Range\")\n",
        "    return\n",
        "\n",
        "  elif n == 1:\n",
        "    print(\"True 1\")\n",
        "    return\n",
        "\n",
        "  else:\n",
        "    changednumber = 0\n",
        "    # Change the number 'n' into 'changed number' for the first time.\n",
        "    while n!=0:\n",
        "        rem = n%10\n",
        "        sqr = rem*rem\n",
        "        changednumber = changednumber+sqr\n",
        "        n = int(n/10)\n",
        "    first_changednumber = changednumber\n",
        "\n",
        "    # Iterate the changes until the changed number equals to 1\n",
        "    while changednumber != 1:\n",
        "      copy_number = changednumber\n",
        "      changednumber = 0\n",
        "      # Change the number 'n' into 'changed number'\n",
        "      while copy_number!=0:\n",
        "        rem = copy_number%10\n",
        "        sqr = rem*rem\n",
        "        changednumber = changednumber+sqr\n",
        "        copy_number = int(copy_number/10)\n",
        "      # If the changed number equals to previous changed number, it turns out \"Not Happy\".\n",
        "      if changednumber == first_changednumber or changednumber == 89:\n",
        "        print(\"False 2 or 89\")\n",
        "        return\n",
        "    print(\"True 19\")\n",
        "    return\n",
        "\n",
        "# Test Cases by me.\n",
        "# isHappy(100)\n",
        "# isHappy(2)\n",
        "# isHappy(1)\n",
        "# isHappy(19)\n",
        "# isHappy(-1)\n",
        "# isHappy(3)\n",
        "# isHappy(5)\n",
        "# isHappy(7)"
      ]
    },
    {
      "cell_type": "markdown",
      "source": [
        "**Testcase 1.**\n",
        "\n",
        "**Input**: n = 19\n",
        "\n",
        "**Output**: True\n",
        "\n",
        "**Explanation**:\n",
        "\n",
        "$1^2 + 9^2 = 82$\n",
        "\n",
        "$8^2 + 2^2 = 68$\n",
        "\n",
        "$6^2 + 2^2 = 100$\n",
        "\n",
        "$1^2 + 0^2 + 0^2 = 1$"
      ],
      "metadata": {
        "id": "eRrh24Ognrqf"
      }
    },
    {
      "cell_type": "markdown",
      "source": [
        "**Testcase 2.**\n",
        "\n",
        "**Input**: n = 2\n",
        "\n",
        "**Output**: False"
      ],
      "metadata": {
        "id": "dE7YMY8qoPoj"
      }
    }
  ]
}